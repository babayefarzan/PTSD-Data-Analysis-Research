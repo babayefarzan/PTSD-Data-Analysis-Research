{
 "cells": [
  {
   "cell_type": "code",
   "execution_count": 1,
   "metadata": {},
   "outputs": [
    {
     "name": "stderr",
     "output_type": "stream",
     "text": [
      "Using TensorFlow backend.\n",
      "//miniconda3/envs/PTSD/lib/python3.7/site-packages/tensorflow/python/framework/dtypes.py:516: FutureWarning: Passing (type, 1) or '1type' as a synonym of type is deprecated; in a future version of numpy, it will be understood as (type, (1,)) / '(1,)type'.\n",
      "  _np_qint8 = np.dtype([(\"qint8\", np.int8, 1)])\n",
      "//miniconda3/envs/PTSD/lib/python3.7/site-packages/tensorflow/python/framework/dtypes.py:517: FutureWarning: Passing (type, 1) or '1type' as a synonym of type is deprecated; in a future version of numpy, it will be understood as (type, (1,)) / '(1,)type'.\n",
      "  _np_quint8 = np.dtype([(\"quint8\", np.uint8, 1)])\n",
      "//miniconda3/envs/PTSD/lib/python3.7/site-packages/tensorflow/python/framework/dtypes.py:518: FutureWarning: Passing (type, 1) or '1type' as a synonym of type is deprecated; in a future version of numpy, it will be understood as (type, (1,)) / '(1,)type'.\n",
      "  _np_qint16 = np.dtype([(\"qint16\", np.int16, 1)])\n",
      "//miniconda3/envs/PTSD/lib/python3.7/site-packages/tensorflow/python/framework/dtypes.py:519: FutureWarning: Passing (type, 1) or '1type' as a synonym of type is deprecated; in a future version of numpy, it will be understood as (type, (1,)) / '(1,)type'.\n",
      "  _np_quint16 = np.dtype([(\"quint16\", np.uint16, 1)])\n",
      "//miniconda3/envs/PTSD/lib/python3.7/site-packages/tensorflow/python/framework/dtypes.py:520: FutureWarning: Passing (type, 1) or '1type' as a synonym of type is deprecated; in a future version of numpy, it will be understood as (type, (1,)) / '(1,)type'.\n",
      "  _np_qint32 = np.dtype([(\"qint32\", np.int32, 1)])\n",
      "//miniconda3/envs/PTSD/lib/python3.7/site-packages/tensorflow/python/framework/dtypes.py:525: FutureWarning: Passing (type, 1) or '1type' as a synonym of type is deprecated; in a future version of numpy, it will be understood as (type, (1,)) / '(1,)type'.\n",
      "  np_resource = np.dtype([(\"resource\", np.ubyte, 1)])\n",
      "//miniconda3/envs/PTSD/lib/python3.7/site-packages/tensorboard/compat/tensorflow_stub/dtypes.py:541: FutureWarning: Passing (type, 1) or '1type' as a synonym of type is deprecated; in a future version of numpy, it will be understood as (type, (1,)) / '(1,)type'.\n",
      "  _np_qint8 = np.dtype([(\"qint8\", np.int8, 1)])\n",
      "//miniconda3/envs/PTSD/lib/python3.7/site-packages/tensorboard/compat/tensorflow_stub/dtypes.py:542: FutureWarning: Passing (type, 1) or '1type' as a synonym of type is deprecated; in a future version of numpy, it will be understood as (type, (1,)) / '(1,)type'.\n",
      "  _np_quint8 = np.dtype([(\"quint8\", np.uint8, 1)])\n",
      "//miniconda3/envs/PTSD/lib/python3.7/site-packages/tensorboard/compat/tensorflow_stub/dtypes.py:543: FutureWarning: Passing (type, 1) or '1type' as a synonym of type is deprecated; in a future version of numpy, it will be understood as (type, (1,)) / '(1,)type'.\n",
      "  _np_qint16 = np.dtype([(\"qint16\", np.int16, 1)])\n",
      "//miniconda3/envs/PTSD/lib/python3.7/site-packages/tensorboard/compat/tensorflow_stub/dtypes.py:544: FutureWarning: Passing (type, 1) or '1type' as a synonym of type is deprecated; in a future version of numpy, it will be understood as (type, (1,)) / '(1,)type'.\n",
      "  _np_quint16 = np.dtype([(\"quint16\", np.uint16, 1)])\n",
      "//miniconda3/envs/PTSD/lib/python3.7/site-packages/tensorboard/compat/tensorflow_stub/dtypes.py:545: FutureWarning: Passing (type, 1) or '1type' as a synonym of type is deprecated; in a future version of numpy, it will be understood as (type, (1,)) / '(1,)type'.\n",
      "  _np_qint32 = np.dtype([(\"qint32\", np.int32, 1)])\n",
      "//miniconda3/envs/PTSD/lib/python3.7/site-packages/tensorboard/compat/tensorflow_stub/dtypes.py:550: FutureWarning: Passing (type, 1) or '1type' as a synonym of type is deprecated; in a future version of numpy, it will be understood as (type, (1,)) / '(1,)type'.\n",
      "  np_resource = np.dtype([(\"resource\", np.ubyte, 1)])\n"
     ]
    }
   ],
   "source": [
    "import numpy as np\n",
    "import pandas as pd\n",
    "%matplotlib inline\n",
    "import glob\n",
    "import keras\n",
    "from functools import reduce"
   ]
  },
  {
   "cell_type": "code",
   "execution_count": 2,
   "metadata": {},
   "outputs": [],
   "source": [
    "path = r'/Users/mahnooshsadeghi/Desktop/PTSD/PTSD Data/Kalman Imputed Data' # use your path\n",
    "all_files = glob.glob(path + \"/*.csv\")"
   ]
  },
  {
   "cell_type": "code",
   "execution_count": 3,
   "metadata": {},
   "outputs": [],
   "source": [
    "participant=1\n",
    "li=[]"
   ]
  },
  {
   "cell_type": "code",
   "execution_count": null,
   "metadata": {},
   "outputs": [],
   "source": [
    "for filename in all_files:\n",
    "    df = pd.read_csv(filename, index_col=None, header=0)\n",
    "    l=df.index[df['ptsd_moment'] == 'STRESSMOMENT'].tolist()\n",
    "    for i in l:\n",
    "        df.ptsd_moment[i-30: i+30]= 'STRESSMOMENT'\n",
    "    #df['participant']=participant\n",
    "    df['windowno']= -1\n",
    "    j=0\n",
    "    k=1\n",
    "    while j<len(df.index)-59:\n",
    "        df['windowno'][j:j+60]=k\n",
    "        j=j+60\n",
    "        k=k+1\n",
    "    df1=df.dropna(axis=0, subset=['hr'])\n",
    "    df1 = df1.reset_index(drop=True)\n",
    "    count =  df1.groupby('windowno', as_index=False)['hr'].size()\n",
    "    for i in df1.windowno:\n",
    "        if count[i]<40:\n",
    "            df1=df1[df1.windowno != i ]\n",
    "    df1.loc[df1.ptsd_moment != 'STRESSMOMENT', 'ptsd_moment'] = 0\n",
    "    df1.loc[df1.ptsd_moment == 'STRESSMOMENT', 'ptsd_moment'] = 1\n",
    "    hrmean=df1.groupby('windowno', as_index=False)['hr'].mean()\n",
    "    hrmean=hrmean.rename(columns={\"hr\": \"hrmean\"})\n",
    "    hrsd=df1.groupby('windowno').agg(np.std,ddof=0)['hr']\n",
    "    hrsd=pd.DataFrame(hrsd)\n",
    "    hrsd=hrsd.rename(columns={\"hr\": \"hrsd\"})\n",
    "    stress=df1.groupby('windowno', as_index=False)['ptsd_moment'].max()\n",
    "    hrmin=df1.groupby('windowno', as_index=False)['hr'].min()\n",
    "    hrmin=hrmin.rename(columns={\"hr\": \"hrmin\"})\n",
    "    hrmax=df1.groupby('windowno', as_index=False)['hr'].max()\n",
    "    hrmax=hrmax.rename(columns={\"hr\": \"hrmax\"})\n",
    "    linaccx=df1.groupby('windowno', as_index=False)['linear_accel_x'].mean()\n",
    "    linaccy=df1.groupby('windowno', as_index=False)['linear_accel_y'].mean()\n",
    "    linaccz=df1.groupby('windowno', as_index=False)['linear_accel_z'].mean()\n",
    "    acc_x=df1.groupby('windowno', as_index=False)['acc_x'].mean()\n",
    "    acc_y=df1.groupby('windowno', as_index=False)['acc_y'].mean()\n",
    "    acc_z=df1.groupby('windowno', as_index=False)['acc_z'].mean()\n",
    "    accxmean=df1.groupby('windowno', as_index=False)['acc_x'].mean()\n",
    "    accymean=df1.groupby('windowno', as_index=False)['acc_y'].mean()\n",
    "    acczmean=df1.groupby('windowno', as_index=False)['acc_z'].mean()\n",
    "    linaccxmean=df1.groupby('windowno', as_index=False)['linear_accel_x'].mean()\n",
    "    linaccymean=df1.groupby('windowno', as_index=False)['linear_accel_y'].mean()\n",
    "    linacczmean=df1.groupby('windowno', as_index=False)['linear_accel_z'].mean()\n",
    "    accxmean=accxmean.rename(columns={\"acc_x\": \"accxmean\"})\n",
    "    hrsd=df1.groupby('windowno').agg(np.std,ddof=0)['hr']\n",
    "    hrsd=pd.DataFrame(hrsd)\n",
    "    hrsd=hrsd.rename(columns={\"hr\": \"hrsd\"})\n",
    "    data=reduce(lambda x,y: pd.merge(x,y, on='windowno', how='outer'),\n",
    "       [hrmean,hrmin,hrmax,hrsd,linaccx,linaccy,linaccz,acc_x,acc_y,acc_z,stress])\n",
    "    data['participant']=participant\n",
    "    participant=participant+1\n",
    "    li.append(data)\n",
    "\n",
    "frame = pd.concat(li, axis=0, ignore_index=True)"
   ]
  },
  {
   "cell_type": "code",
   "execution_count": null,
   "metadata": {},
   "outputs": [],
   "source": [
    "df = pd.read_csv(\"/Users/mahnooshsadeghi/Desktop/PTSD/PTSD Data/Kalman Imputed Data/Participant.3.csv\"\n",
    "                 , index_col=None, header=0)\n",
    "l=df.index[df['ptsd_moment'] == 'STRESSMOMENT'].tolist()\n",
    "for i in l:\n",
    "    df.ptsd_moment[i-30: i+30]= 'STRESSMOMENT'\n",
    "    #df['participant']=participant\n",
    "df['windowno']= -1\n",
    "j=0\n",
    "k=1\n",
    "while j<len(df.index)-59:\n",
    "    df['windowno'][j:j+60]=k\n",
    "    j=j+60\n",
    "    k=k+1\n",
    "df1=df.dropna(axis=0, subset=['hr'])\n",
    "df1 = df1.reset_index(drop=True)\n",
    "count =  df1.groupby('windowno', as_index=False)['hr'].size()\n",
    "for i in df1.win  downo:\n",
    "    popfopo=count[i]"
   ]
  }
 ],
 "metadata": {
  "kernelspec": {
   "display_name": "Python 3",
   "language": "python",
   "name": "python3"
  },
  "language_info": {
   "codemirror_mode": {
    "name": "ipython",
    "version": 3
   },
   "file_extension": ".py",
   "mimetype": "text/x-python",
   "name": "python",
   "nbconvert_exporter": "python",
   "pygments_lexer": "ipython3",
   "version": "3.7.4"
  }
 },
 "nbformat": 4,
 "nbformat_minor": 2
}
